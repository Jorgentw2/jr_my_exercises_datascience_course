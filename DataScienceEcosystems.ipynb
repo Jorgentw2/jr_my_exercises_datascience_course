{
 "cells": [
  {
   "cell_type": "markdown",
   "id": "818807a5-7385-4860-be70-94277ffd0b49",
   "metadata": {},
   "source": [
    "# Data Science Tools and Ecosystem"
   ]
  },
  {
   "cell_type": "markdown",
   "id": "7c9a5a55-b6d3-4d67-85eb-ca24623c3c7e",
   "metadata": {},
   "source": [
    "In this notebook, Data Science Tools and Ecosystems are summarized"
   ]
  },
  {
   "cell_type": "markdown",
   "id": "7228a44d-a185-4c91-b125-7fbc755397e8",
   "metadata": {},
   "source": [
    "**Objectives:**\n",
    "* List popular languages for Data Science\n",
    "* List commonly used libraries used by Data Scientists\n",
    "* List some popular development tools used by Data Scientists\n",
    "* Show an example of simple arithmetic expressions"
   ]
  },
  {
   "cell_type": "markdown",
   "id": "70874fd0-0687-473d-ab60-6be9b71038d7",
   "metadata": {},
   "source": [
    "Some of the popular languages that Data Scientists use are:\n",
    "1. python\n",
    "2. R\n",
    "3. Julia"
   ]
  },
  {
   "cell_type": "markdown",
   "id": "bb684d2b-c167-405b-b83b-bac8758445bf",
   "metadata": {},
   "source": [
    "Some of the commonly used libraries used by Data Scientists include:\n",
    "1. Pandas\n",
    "2. NumPy\n",
    "3. ggplot2"
   ]
  },
  {
   "cell_type": "markdown",
   "id": "d6871aa2-8bf5-4595-8be1-d5b81c4bf4df",
   "metadata": {},
   "source": [
    "|Data Science Tools|\n",
    "|-|\n",
    "|Spyder|\n",
    "|RStudio|\n",
    "|Microsoft Visual Studio|"
   ]
  },
  {
   "cell_type": "markdown",
   "id": "3ce62309-ee4f-4393-88f2-22708833e8b6",
   "metadata": {},
   "source": [
    "### Below are a few examples of evaluating arithmetic expressions in Python"
   ]
  },
  {
   "cell_type": "code",
   "execution_count": 16,
   "id": "ed6b087d-1d06-4aa8-a6c5-7ae9cace7d93",
   "metadata": {},
   "outputs": [
    {
     "data": {
      "text/plain": [
       "17"
      ]
     },
     "execution_count": 16,
     "metadata": {},
     "output_type": "execute_result"
    }
   ],
   "source": [
    "# This a simple arithmetic expression to mutiply then add integers\n",
    "(3*4)+5"
   ]
  },
  {
   "cell_type": "code",
   "execution_count": 22,
   "id": "72a8cdb4-0c9d-441d-bc9b-1439aba8863b",
   "metadata": {},
   "outputs": [
    {
     "data": {
      "text/plain": [
       "3.33"
      ]
     },
     "execution_count": 22,
     "metadata": {},
     "output_type": "execute_result"
    }
   ],
   "source": [
    "# This will convert 200 minutes to hours by diving by 60\n",
    "round((200/60), 2)"
   ]
  },
  {
   "cell_type": "markdown",
   "id": "0806a585-5c41-47cc-b0cc-cba408b4cffc",
   "metadata": {},
   "source": [
    "## Author :\n",
    "Jørgen Roseboom"
   ]
  }
 ],
 "metadata": {
  "kernelspec": {
   "display_name": "Python 3 (ipykernel)",
   "language": "python",
   "name": "python3"
  },
  "language_info": {
   "codemirror_mode": {
    "name": "ipython",
    "version": 3
   },
   "file_extension": ".py",
   "mimetype": "text/x-python",
   "name": "python",
   "nbconvert_exporter": "python",
   "pygments_lexer": "ipython3",
   "version": "3.11.7"
  }
 },
 "nbformat": 4,
 "nbformat_minor": 5
}
